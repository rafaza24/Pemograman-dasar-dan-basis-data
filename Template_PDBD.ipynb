{
  "nbformat": 4,
  "nbformat_minor": 0,
  "metadata": {
    "colab": {
      "provenance": [],
      "authorship_tag": "ABX9TyM0mUDbAQkhdEHipLul9I+A",
      "include_colab_link": true
    },
    "kernelspec": {
      "name": "python3",
      "display_name": "Python 3"
    },
    "language_info": {
      "name": "python"
    }
  },
  "cells": [
    {
      "cell_type": "markdown",
      "metadata": {
        "id": "view-in-github",
        "colab_type": "text"
      },
      "source": [
        "<a href=\"https://colab.research.google.com/github/rafaza24/Pemograman-dasar-dan-basis-data/blob/main/Template_PDBD.ipynb\" target=\"_parent\"><img src=\"https://colab.research.google.com/assets/colab-badge.svg\" alt=\"Open In Colab\"/></a>"
      ]
    },
    {
      "cell_type": "markdown",
      "source": [
        "##**🖥️ PRAKTIKUM PEMROGRAMAN DASAR DAN BASIS DATA 🖥️**\n",
        "##**Pertemuan (1) - Kamis, 13 Maret 2025**\n",
        "\n",
        "👤 Nama: Rafid Farhan Zai / NRP: 2C2230001 / Kelas:\n",
        "\n",
        "\n",
        "\n"
      ],
      "metadata": {
        "id": "Sl48EBzl2yU2"
      }
    },
    {
      "cell_type": "markdown",
      "source": [
        "#✨ EKSPLORASI PRIBADI DI KELAS ✨\n",
        "\n",
        "---\n",
        "\n"
      ],
      "metadata": {
        "id": "kfBY_q6z2-nH"
      }
    },
    {
      "cell_type": "code",
      "source": [],
      "metadata": {
        "id": "GWRi-kqa3dh5"
      },
      "execution_count": null,
      "outputs": []
    },
    {
      "cell_type": "markdown",
      "source": [
        "#⚡ Latihan ⚡\n",
        "\n",
        "---\n",
        "\n"
      ],
      "metadata": {
        "id": "KeMilgUQ3RgF"
      }
    },
    {
      "cell_type": "code",
      "source": [],
      "metadata": {
        "id": "Q5YmqlRi3hhP"
      },
      "execution_count": null,
      "outputs": []
    }
  ]
}